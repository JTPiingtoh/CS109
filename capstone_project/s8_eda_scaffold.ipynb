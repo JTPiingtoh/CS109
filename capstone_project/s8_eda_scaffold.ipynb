{
    "metadata": {
        "kernelspec": {
            "name": "python3",
            "display_name": "Python 3 (ipykernel)",
            "language": "python"
        }
    },
    "nbformat": 4,
    "nbformat_minor": 4,
    "cells": [
        {
            "cell_type": "code",
            "execution_count": 313,
            "metadata": {},
            "outputs": [],
            "source": [
                "# Import necessary libraries\n",
                "\n",
                "# Your code here\n",
                "from sklearn.impute import KNNImputer\n",
                "from sklearn.model_selection import train_test_split\n",
                "from sklearn.preprocessing import MinMaxScaler\n",
                "import numpy as np \n",
                "import pandas as pd \n",
                "import matplotlib.pyplot as plt"
            ]
        },
        {
            "cell_type": "code",
            "execution_count": 314,
            "metadata": {},
            "outputs": [
                {
                    "data": {
                        "text/html": "\u003cdiv\u003e\n\u003cstyle scoped\u003e\n    .dataframe tbody tr th:only-of-type {\n        vertical-align: middle;\n    }\n\n    .dataframe tbody tr th {\n        vertical-align: top;\n    }\n\n    .dataframe thead th {\n        text-align: right;\n    }\n\u003c/style\u003e\n\u003ctable border=\"1\" class=\"dataframe\"\u003e\n  \u003cthead\u003e\n    \u003ctr style=\"text-align: right;\"\u003e\n      \u003cth\u003e\u003c/th\u003e\n      \u003cth\u003eage\u003c/th\u003e\n      \u003cth\u003esex\u003c/th\u003e\n      \u003cth\u003ecough\u003c/th\u003e\n      \u003cth\u003efever\u003c/th\u003e\n      \u003cth\u003echills\u003c/th\u003e\n      \u003cth\u003esore_throat\u003c/th\u003e\n      \u003cth\u003eheadache\u003c/th\u003e\n      \u003cth\u003efatigue\u003c/th\u003e\n      \u003cth\u003eUrgency\u003c/th\u003e\n    \u003c/tr\u003e\n  \u003c/thead\u003e\n  \u003ctbody\u003e\n    \u003ctr\u003e\n      \u003cth\u003e0\u003c/th\u003e\n      \u003ctd\u003e30.0\u003c/td\u003e\n      \u003ctd\u003e1.0\u003c/td\u003e\n      \u003ctd\u003e0.0\u003c/td\u003e\n      \u003ctd\u003e0.0\u003c/td\u003e\n      \u003ctd\u003e0.0\u003c/td\u003e\n      \u003ctd\u003e0.0\u003c/td\u003e\n      \u003ctd\u003e0.0\u003c/td\u003e\n      \u003ctd\u003e0.0\u003c/td\u003e\n      \u003ctd\u003e0\u003c/td\u003e\n    \u003c/tr\u003e\n    \u003ctr\u003e\n      \u003cth\u003e1\u003c/th\u003e\n      \u003ctd\u003e47.0\u003c/td\u003e\n      \u003ctd\u003e1.0\u003c/td\u003e\n      \u003ctd\u003e0.0\u003c/td\u003e\n      \u003ctd\u003e0.0\u003c/td\u003e\n      \u003ctd\u003e0.0\u003c/td\u003e\n      \u003ctd\u003e0.0\u003c/td\u003e\n      \u003ctd\u003e0.0\u003c/td\u003e\n      \u003ctd\u003e0.0\u003c/td\u003e\n      \u003ctd\u003e0\u003c/td\u003e\n    \u003c/tr\u003e\n    \u003ctr\u003e\n      \u003cth\u003e2\u003c/th\u003e\n      \u003ctd\u003e49.0\u003c/td\u003e\n      \u003ctd\u003e1.0\u003c/td\u003e\n      \u003ctd\u003e0.0\u003c/td\u003e\n      \u003ctd\u003e0.0\u003c/td\u003e\n      \u003ctd\u003e0.0\u003c/td\u003e\n      \u003ctd\u003e0.0\u003c/td\u003e\n      \u003ctd\u003e0.0\u003c/td\u003e\n      \u003ctd\u003e0.0\u003c/td\u003e\n      \u003ctd\u003e0\u003c/td\u003e\n    \u003c/tr\u003e\n    \u003ctr\u003e\n      \u003cth\u003e3\u003c/th\u003e\n      \u003ctd\u003e50.0\u003c/td\u003e\n      \u003ctd\u003e0.0\u003c/td\u003e\n      \u003ctd\u003e0.0\u003c/td\u003e\n      \u003ctd\u003e0.0\u003c/td\u003e\n      \u003ctd\u003e0.0\u003c/td\u003e\n      \u003ctd\u003e0.0\u003c/td\u003e\n      \u003ctd\u003e0.0\u003c/td\u003e\n      \u003ctd\u003e0.0\u003c/td\u003e\n      \u003ctd\u003e0\u003c/td\u003e\n    \u003c/tr\u003e\n    \u003ctr\u003e\n      \u003cth\u003e4\u003c/th\u003e\n      \u003ctd\u003e59.0\u003c/td\u003e\n      \u003ctd\u003e0.0\u003c/td\u003e\n      \u003ctd\u003e0.0\u003c/td\u003e\n      \u003ctd\u003e1.0\u003c/td\u003e\n      \u003ctd\u003e0.0\u003c/td\u003e\n      \u003ctd\u003e0.0\u003c/td\u003e\n      \u003ctd\u003e0.0\u003c/td\u003e\n      \u003ctd\u003e0.0\u003c/td\u003e\n      \u003ctd\u003e0\u003c/td\u003e\n    \u003c/tr\u003e\n  \u003c/tbody\u003e\n\u003c/table\u003e\n\u003c/div\u003e",
                        "text/plain": "    age  sex  cough  fever  chills  sore_throat  headache  fatigue  Urgency\n0  30.0  1.0    0.0    0.0     0.0          0.0       0.0      0.0        0\n1  47.0  1.0    0.0    0.0     0.0          0.0       0.0      0.0        0\n2  49.0  1.0    0.0    0.0     0.0          0.0       0.0      0.0        0\n3  50.0  0.0    0.0    0.0     0.0          0.0       0.0      0.0        0\n4  59.0  0.0    0.0    1.0     0.0          0.0       0.0      0.0        0"
                    },
                    "execution_count": 314,
                    "metadata": {},
                    "output_type": "execute_result"
                }
            ],
            "source": [
                "# Read the datafile \"covid.csv\"\n",
                "df = pd.read_csv('covid.csv')\n",
                "\n",
                "# Take a quick look at the dataframe\n",
                "df.head()\n",
                ""
            ]
        },
        {
            "cell_type": "code",
            "execution_count": 315,
            "metadata": {},
            "outputs": [
                {
                    "data": {
                        "text/plain": "37"
                    },
                    "execution_count": 315,
                    "metadata": {},
                    "output_type": "execute_result"
                }
            ],
            "source": [
                "# Check if there are any missing or Null values\n",
                "# df[df.isnull().sum(axis=1) == True].shape[0]\n",
                "df.shape[0] - df.dropna().shape[0]\n",
                ""
            ]
        },
        {
            "cell_type": "code",
            "execution_count": 316,
            "metadata": {},
            "outputs": [
                {
                    "name": "stdout",
                    "output_type": "stream",
                    "text": "Number of rows with null values: 37\n"
                }
            ],
            "source": [
                "### edTest(test_na) ###\n",
                "\n",
                "# Find the number of rows with missing values\n",
                "num_null = df.shape[0] - df.dropna().shape[0]\n",
                "print(\"Number of rows with null values:\", num_null)\n",
                ""
            ]
        },
        {
            "cell_type": "code",
            "execution_count": 317,
            "metadata": {},
            "outputs": [
                {
                    "data": {
                        "text/plain": "np.float64(0.36878989883294433)"
                    },
                    "execution_count": 317,
                    "metadata": {},
                    "output_type": "execute_result"
                }
            ],
            "source": [
                "# Before imputing, I am going to try to scale age.\n",
                "\n",
                "cv_age = df['age'].std() / df['age'].mean() \n",
                "cv_age"
            ]
        },
        {
            "cell_type": "code",
            "execution_count": 318,
            "metadata": {},
            "outputs": [
                {
                    "data": {
                        "text/plain": "(array([13.,  3.,  2.,  0.,  3.,  4.,  0.,  2.,  0.,  2.,  5., 38., 21.,\n         2., 23., 24., 21., 42., 26., 17., 41., 36., 44., 44., 43., 36.,\n        18., 33., 29., 70., 31., 36., 25.,  7.,  7., 58., 19., 30., 40.,\n         5.,  8., 36., 21.,  1.,  8.,  6.,  2., 12.,  0.,  1.]),\n array([ 0. ,  1.7,  3.4,  5.1,  6.8,  8.5, 10.2, 11.9, 13.6, 15.3, 17. ,\n        18.7, 20.4, 22.1, 23.8, 25.5, 27.2, 28.9, 30.6, 32.3, 34. , 35.7,\n        37.4, 39.1, 40.8, 42.5, 44.2, 45.9, 47.6, 49.3, 51. , 52.7, 54.4,\n        56.1, 57.8, 59.5, 61.2, 62.9, 64.6, 66.3, 68. , 69.7, 71.4, 73.1,\n        74.8, 76.5, 78.2, 79.9, 81.6, 83.3, 85. ]),\n \u003cBarContainer object of 50 artists\u003e)"
                    },
                    "execution_count": 318,
                    "metadata": {},
                    "output_type": "execute_result"
                },
                {
                    "data": {
                        "image/png": "[encoded data removed]",
                        "text/plain": "\u003cFigure size 640x480 with 1 Axes\u003e"
                    },
                    "metadata": {},
                    "output_type": "display_data"
                }
            ],
            "source": [
                "plt.hist(df['age'], bins = 50)"
            ]
        },
        {
            "cell_type": "code",
            "execution_count": 319,
            "metadata": {},
            "outputs": [
                {
                    "name": "stdout",
                    "output_type": "stream",
                    "text": "----------\n"
                }
            ],
            "source": [
                "# changing age to be between 0 and 1\n",
                "min_max_scaler = MinMaxScaler()\n",
                "\n",
                "\n",
                "print('----------')\n",
                "df['age'] = min_max_scaler.fit_transform(df[['age']])\n",
                "\n",
                ""
            ]
        },
        {
            "attachments": {},
            "cell_type": "markdown",
            "metadata": {},
            "source": [
                "Scaling has not effected null values"
            ]
        },
        {
            "cell_type": "code",
            "execution_count": 320,
            "metadata": {},
            "outputs": [],
            "source": [
                "# kNN impute the missing data\n",
                "# Use a k value of 5\n",
                "\n",
                "# Your code here\n",
                "k = 5"
            ]
        },
        {
            "cell_type": "code",
            "execution_count": 321,
            "metadata": {},
            "outputs": [
                {
                    "name": "stdout",
                    "output_type": "stream",
                    "text": "Index(['age', 'sex', 'cough', 'fever', 'chills', 'sore_throat', 'headache',\n       'fatigue'],\n      dtype='object')\n"
                }
            ],
            "source": [
                "### edTest(test_impute) ###\n",
                "# Replace the original dataframe with the imputed data, continue to use df for the dataframe\n",
                "\n",
                "# Your code here\n",
                "k = 5\n",
                "knn_imputer = KNNImputer(n_neighbors = k, weights = 'uniform')\n",
                "\n",
                "x_columns = df.columns.drop('Urgency')\n",
                "\n",
                "print(x_columns)\n",
                "\n",
                "X = df[x_columns]\n",
                "df[x_columns] = knn_imputer.fit_transform(X)\n",
                "\n",
                "# Reverse scaling for age now that it has been imputed\n",
                "df['age'] = min_max_scaler.inverse_transform(df[['age']])\n",
                ""
            ]
        },
        {
            "cell_type": "code",
            "execution_count": 322,
            "metadata": {},
            "outputs": [
                {
                    "data": {
                        "text/plain": "age            0\nsex            0\ncough          0\nfever          0\nchills         0\nsore_throat    0\nheadache       0\nfatigue        0\nUrgency        0\ndtype: int64"
                    },
                    "execution_count": 322,
                    "metadata": {},
                    "output_type": "execute_result"
                }
            ],
            "source": [
                "df.isnull().sum()"
            ]
        },
        {
            "attachments": {},
            "cell_type": "markdown",
            "metadata": {},
            "source": [
                "        ## EDA"
            ]
        },
        {
            "cell_type": "code",
            "execution_count": 323,
            "metadata": {},
            "outputs": [
                {
                    "data": {
                        "text/plain": "Text(0.5, 0, 'Age group')"
                    },
                    "execution_count": 323,
                    "metadata": {},
                    "output_type": "execute_result"
                },
                {
                    "data": {
                        "image/png": "[encoded data removed]",
                        "text/plain": "\u003cFigure size 640x480 with 1 Axes\u003e"
                    },
                    "metadata": {},
                    "output_type": "display_data"
                }
            ],
            "source": [
                "# Plot an appropriate graph to answer the following question\n",
                "# Your code here\n",
                "groups_num = 5\n",
                "min_age = 20\n",
                "current_age = min_age\n",
                "max_age = 70\n",
                "gap = 10\n",
                "\n",
                "groups = []\n",
                "\n",
                "for group in range(groups_num):\n",
                "    dict = {}\n",
                "    dict['low'] = current_age\n",
                "    current_age += gap\n",
                "    dict['high'] = current_age\n",
                "    groups.append(dict)\n",
                "\n",
                "means = []\n",
                "stds = []\n",
                "\n",
                "for group in groups:\n",
                "    group\n",
                "    low = group['low']\n",
                "    high = group['high']\n",
                "    group_urgency = df[(low \u003c df['age']) \u0026 (df['age'] \u003c= high)].Urgency\n",
                "\n",
                "    means.append(group_urgency.sum())\n",
                "    stds.append(group_urgency.std())\n",
                "\n",
                "group_names = [f\"{d['low']} - {d['high']}\" for d in groups]\n",
                "\n",
                "\n",
                "fig, ax = plt.subplots()\n",
                "\n",
                "ax.bar(group_names, means)\n",
                "ax.set_ylabel('Urgency')\n",
                "ax.set_xlabel('Age group')"
            ]
        },
        {
            "cell_type": "code",
            "execution_count": 324,
            "metadata": {},
            "outputs": [],
            "source": [
                ""
            ]
        },
        {
            "attachments": {},
            "cell_type": "markdown",
            "metadata": {},
            "source": [
                "### ⏸ Which age group has the most urgent need for  a hospital bed?\n",
                "\n",
                "#### A. 60 - 70 \n",
                "\n",
                "#### B. 50 - 60 \n",
                "\n",
                "#### C. 20 - 30\n",
                "\n",
                "#### D. 40 - 50"
            ]
        },
        {
            "cell_type": "code",
            "execution_count": 325,
            "metadata": {},
            "outputs": [],
            "source": [
                "### edTest(test_chow1) ###\n",
                "# Submit an answer choice as a string below (eg. if you choose option A, put 'A')\n",
                "answer1 = 'D'\n",
                ""
            ]
        },
        {
            "cell_type": "code",
            "execution_count": 326,
            "metadata": {},
            "outputs": [
                {
                    "data": {
                        "text/plain": "Text(0.5, 0, 'Symptom')"
                    },
                    "execution_count": 326,
                    "metadata": {},
                    "output_type": "execute_result"
                },
                {
                    "data": {
                        "image/png": "[encoded data removed]",
                        "text/plain": "\u003cFigure size 640x480 with 1 Axes\u003e"
                    },
                    "metadata": {},
                    "output_type": "display_data"
                }
            ],
            "source": [
                "# Plot an appropriate graph to answer the following question    \n",
                "# Your code here\n",
                "symptoms = ['cough', 'fever', 'sore_throat', 'fatigue']\n",
                "hosp_counts = []\n",
                "\n",
                "for symptom in symptoms:\n",
                "    hosp_counts.append(\n",
                "            df[\n",
                "                (df[symptom] == True) \u0026 \n",
                "                (df['Urgency'] == True)\n",
                "            ].shape[0]\n",
                "        )\n",
                "\n",
                "fig, ax = plt.subplots()\n",
                "\n",
                "ax.bar(symptoms, hosp_counts)\n",
                "ax.set_ylabel('Number of high urgency admissions')\n",
                "ax.set_xlabel('Symptom')"
            ]
        },
        {
            "attachments": {},
            "cell_type": "markdown",
            "metadata": {},
            "source": [
                "### ⏸ Among the following symptoms, which is the most common one for patients with urgent need of hospitalization?\n",
                "\n",
                "#### A. Cough\n",
                "\n",
                "#### B. Fever\n",
                "\n",
                "#### C. Sore Throat\n",
                "\n",
                "#### D. Fatigue"
            ]
        },
        {
            "cell_type": "code",
            "execution_count": 327,
            "metadata": {},
            "outputs": [],
            "source": [
                "### edTest(test_chow2) ###\n",
                "# Submit an answer choice as a string below (eg. if you choose option A, put 'A')\n",
                "answer2 = 'B'\n",
                ""
            ]
        },
        {
            "cell_type": "code",
            "execution_count": 328,
            "metadata": {},
            "outputs": [
                {
                    "data": {
                        "text/plain": "\u003cBarContainer object of 2 artists\u003e"
                    },
                    "execution_count": 328,
                    "metadata": {},
                    "output_type": "execute_result"
                },
                {
                    "data": {
                        "image/png": "[encoded data removed]",
                        "text/plain": "\u003cFigure size 640x480 with 1 Axes\u003e"
                    },
                    "metadata": {},
                    "output_type": "display_data"
                }
            ],
            "source": [
                "# Plot an appropriate graph to answer the following question    \n",
                "# Your code here\n",
                "\n",
                "mean_cough_no_urgency = (\n",
                "    df[df['Urgency'] == False]['cough'].mean()\n",
                ")\n",
                "\n",
                "mean_cough_urgency = (\n",
                "    df[df['Urgency'] == True]['cough'].mean()\n",
                ")\n",
                "\n",
                "fig, ax = plt.subplots()\n",
                "\n",
                "ax.bar(['urgent', 'non-urgent'], [mean_cough_urgency, mean_cough_no_urgency])"
            ]
        },
        {
            "attachments": {},
            "cell_type": "markdown",
            "metadata": {},
            "source": [
                "### ⏸ As compared to patients with urgent need of hospitalization, patients with no urgency have cough as a more common symptom?\n",
                "\n",
                "#### A. True\n",
                "\n",
                "#### B. False\n",
                "\n",
                "#### C. It is the same\n",
                "\n",
                "#### D. Cannot say"
            ]
        },
        {
            "cell_type": "code",
            "execution_count": 329,
            "metadata": {},
            "outputs": [],
            "source": [
                "### edTest(test_chow3) ###\n",
                "# Submit an answer choice as a string below (eg. if you choose option A, put 'A')\n",
                "answer3 = 'A'\n",
                ""
            ]
        },
        {
            "attachments": {},
            "cell_type": "markdown",
            "metadata": {},
            "source": [
                "### Train Test Split"
            ]
        },
        {
            "cell_type": "code",
            "execution_count": 330,
            "metadata": {},
            "outputs": [],
            "source": [
                "### edTest(test_split) ###\n",
                "# Split the data into train and test sets with 70% for training\n",
                "# Use random state of 60 and set of data as the train split\n",
                "\n",
                "# Your code here\n",
                "df_train, df_test = train_test_split(df, train_size = 0.7, random_state=60)"
            ]
        },
        {
            "cell_type": "code",
            "execution_count": 331,
            "metadata": {},
            "outputs": [],
            "source": [
                "# Save the train data into a csv called \"covid_train.csv\"\n",
                "# Remember to not include the default indices\n",
                "df_train.to_csv('covid_train.csv', index=False)\n",
                "\n",
                "# Save the test data into a csv called \"covid_test.csv\"\n",
                "# Remember to not include the default indices\n",
                "df_test.to_csv('covid_test.csv', index=False)\n",
                ""
            ]
        }
    ]
}
