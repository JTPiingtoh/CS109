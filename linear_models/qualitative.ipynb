{
 "cells": [
  {
   "cell_type": "code",
   "execution_count": 2,
   "id": "b9da6abb",
   "metadata": {},
   "outputs": [],
   "source": [
    "import numpy as np\n",
    "import pandas as pd\n",
    "import seaborn as sns\n",
    "import matplotlib.pyplot as plt\n",
    "from sklearn.metrics import mean_squared_error\n",
    "from sklearn.linear_model import LinearRegression\n",
    "from sklearn.model_selection import train_test_split\n",
    "\n",
    "                 "
   ]
  },
  {
   "cell_type": "code",
   "execution_count": 3,
   "id": "99fb2aa4",
   "metadata": {},
   "outputs": [
    {
     "name": "stderr",
     "output_type": "stream",
     "text": [
      "g:\\CS109\\.venv\\Lib\\site-packages\\tqdm\\auto.py:21: TqdmWarning: IProgress not found. Please update jupyter and ipywidgets. See https://ipywidgets.readthedocs.io/en/stable/user_install.html\n",
      "  from .autonotebook import tqdm as notebook_tqdm\n"
     ]
    },
    {
     "name": "stdout",
     "output_type": "stream",
     "text": [
      "Path to dataset files: C:\\Users\\josep\\.cache\\kagglehub\\datasets\\atharvasoundankar\\shifting-seas-ocean-climate-and-marine-life-dataset\\versions\\1\n"
     ]
    }
   ],
   "source": [
    "import kagglehub\n",
    "\n",
    "# Download latest version\n",
    "path = kagglehub.dataset_download(\"atharvasoundankar/shifting-seas-ocean-climate-and-marine-life-dataset\")\n",
    "\n",
    "print(\"Path to dataset files:\", path)"
   ]
  },
  {
   "cell_type": "code",
   "execution_count": 4,
   "id": "68c5a128",
   "metadata": {},
   "outputs": [],
   "source": [
    "df = pd.read_csv(\"realistic_ocean_climate_dataset.csv\")"
   ]
  },
  {
   "cell_type": "code",
   "execution_count": 5,
   "id": "730470da",
   "metadata": {},
   "outputs": [
    {
     "data": {
      "text/html": [
       "<div>\n",
       "<style scoped>\n",
       "    .dataframe tbody tr th:only-of-type {\n",
       "        vertical-align: middle;\n",
       "    }\n",
       "\n",
       "    .dataframe tbody tr th {\n",
       "        vertical-align: top;\n",
       "    }\n",
       "\n",
       "    .dataframe thead th {\n",
       "        text-align: right;\n",
       "    }\n",
       "</style>\n",
       "<table border=\"1\" class=\"dataframe\">\n",
       "  <thead>\n",
       "    <tr style=\"text-align: right;\">\n",
       "      <th></th>\n",
       "      <th>Date</th>\n",
       "      <th>Location</th>\n",
       "      <th>Latitude</th>\n",
       "      <th>Longitude</th>\n",
       "      <th>SST (°C)</th>\n",
       "      <th>pH Level</th>\n",
       "      <th>Bleaching Severity</th>\n",
       "      <th>Species Observed</th>\n",
       "      <th>Marine Heatwave</th>\n",
       "    </tr>\n",
       "  </thead>\n",
       "  <tbody>\n",
       "    <tr>\n",
       "      <th>0</th>\n",
       "      <td>2015-01-01</td>\n",
       "      <td>Red Sea</td>\n",
       "      <td>20.0248</td>\n",
       "      <td>38.4931</td>\n",
       "      <td>29.47</td>\n",
       "      <td>8.107</td>\n",
       "      <td>NaN</td>\n",
       "      <td>106</td>\n",
       "      <td>False</td>\n",
       "    </tr>\n",
       "    <tr>\n",
       "      <th>1</th>\n",
       "      <td>2015-01-07</td>\n",
       "      <td>Great Barrier Reef</td>\n",
       "      <td>-18.2988</td>\n",
       "      <td>147.7782</td>\n",
       "      <td>29.65</td>\n",
       "      <td>8.004</td>\n",
       "      <td>High</td>\n",
       "      <td>116</td>\n",
       "      <td>False</td>\n",
       "    </tr>\n",
       "    <tr>\n",
       "      <th>2</th>\n",
       "      <td>2015-01-14</td>\n",
       "      <td>Caribbean Sea</td>\n",
       "      <td>14.9768</td>\n",
       "      <td>-75.0233</td>\n",
       "      <td>28.86</td>\n",
       "      <td>7.947</td>\n",
       "      <td>High</td>\n",
       "      <td>90</td>\n",
       "      <td>False</td>\n",
       "    </tr>\n",
       "    <tr>\n",
       "      <th>3</th>\n",
       "      <td>2015-01-20</td>\n",
       "      <td>Great Barrier Reef</td>\n",
       "      <td>-18.3152</td>\n",
       "      <td>147.6486</td>\n",
       "      <td>28.97</td>\n",
       "      <td>7.995</td>\n",
       "      <td>Medium</td>\n",
       "      <td>94</td>\n",
       "      <td>False</td>\n",
       "    </tr>\n",
       "    <tr>\n",
       "      <th>4</th>\n",
       "      <td>2015-01-27</td>\n",
       "      <td>Galápagos</td>\n",
       "      <td>-0.8805</td>\n",
       "      <td>-90.9769</td>\n",
       "      <td>28.60</td>\n",
       "      <td>7.977</td>\n",
       "      <td>NaN</td>\n",
       "      <td>110</td>\n",
       "      <td>False</td>\n",
       "    </tr>\n",
       "  </tbody>\n",
       "</table>\n",
       "</div>"
      ],
      "text/plain": [
       "         Date            Location  Latitude  Longitude  SST (°C)  pH Level  \\\n",
       "0  2015-01-01             Red Sea   20.0248    38.4931     29.47     8.107   \n",
       "1  2015-01-07  Great Barrier Reef  -18.2988   147.7782     29.65     8.004   \n",
       "2  2015-01-14       Caribbean Sea   14.9768   -75.0233     28.86     7.947   \n",
       "3  2015-01-20  Great Barrier Reef  -18.3152   147.6486     28.97     7.995   \n",
       "4  2015-01-27           Galápagos   -0.8805   -90.9769     28.60     7.977   \n",
       "\n",
       "  Bleaching Severity  Species Observed  Marine Heatwave  \n",
       "0                NaN               106            False  \n",
       "1               High               116            False  \n",
       "2               High                90            False  \n",
       "3             Medium                94            False  \n",
       "4                NaN               110            False  "
      ]
     },
     "execution_count": 5,
     "metadata": {},
     "output_type": "execute_result"
    }
   ],
   "source": [
    "df.head()"
   ]
  },
  {
   "cell_type": "code",
   "execution_count": 6,
   "id": "d8a012a4",
   "metadata": {},
   "outputs": [],
   "source": [
    "df = df.drop([\"Date\",\"Location\", \"Longitude\", \"Latitude\"], axis=1).dropna()\n",
    "\n",
    "x = df.drop([\"Species Observed\"], axis=1)\n",
    "y = df[\"Species Observed\"]\n",
    "\n",
    "x_train, x_test, y_train, y_test = train_test_split(x, y, test_size=0.2, random_state=42)"
   ]
  },
  {
   "cell_type": "code",
   "execution_count": 7,
   "id": "0d0df400",
   "metadata": {},
   "outputs": [
    {
     "name": "stdout",
     "output_type": "stream",
     "text": [
      "Error:  could not convert string to float: 'Low'\n"
     ]
    }
   ],
   "source": [
    "try:\n",
    "    test_model = LinearRegression().fit(x_train, y_train)\n",
    "except Exception as e:\n",
    "    print(\"Error: \", e)\n"
   ]
  },
  {
   "cell_type": "code",
   "execution_count": 8,
   "id": "010cbef5",
   "metadata": {},
   "outputs": [],
   "source": [
    "numeric_features = df.drop(\"Species Observed\", axis=1).select_dtypes(include='number').columns.tolist()\n",
    "categoric_features = df.drop(\"Species Observed\", axis=1).select_dtypes(exclude='number').columns.tolist()"
   ]
  },
  {
   "cell_type": "code",
   "execution_count": 9,
   "id": "767d440d",
   "metadata": {},
   "outputs": [
    {
     "name": "stdout",
     "output_type": "stream",
     "text": [
      "Train R2: 0.45560291411670606\n",
      "Test R2: 0.37901357199172114\n"
     ]
    }
   ],
   "source": [
    "model1 = LinearRegression().fit(x_train[numeric_features], y_train)\n",
    "\n",
    "train_score = model1.score(x_train[numeric_features], y_train)\n",
    "test_score = model1.score(x_test[numeric_features], y_test)\n",
    "\n",
    "print(\"Train R2:\", train_score)\n",
    "print(\"Test R2:\", test_score)"
   ]
  },
  {
   "cell_type": "markdown",
   "id": "84b221ed",
   "metadata": {},
   "source": [
    "Now I need to train a model that uses catagorical data\n"
   ]
  },
  {
   "cell_type": "code",
   "execution_count": 10,
   "id": "058cdc36",
   "metadata": {},
   "outputs": [],
   "source": [
    "x_train_design = pd.concat(\n",
    "    [\n",
    "        x_train[numeric_features],\n",
    "        pd.get_dummies(x_train[categoric_features])\n",
    "    ],\n",
    "    axis=1\n",
    ")\n",
    "\n",
    "x_test_design = pd.concat(\n",
    "    [\n",
    "        x_test[numeric_features],\n",
    "        pd.get_dummies(x_test[categoric_features])\n",
    "    ],\n",
    "    axis=1\n",
    ")"
   ]
  },
  {
   "cell_type": "code",
   "execution_count": 11,
   "id": "5e5b7dc7",
   "metadata": {},
   "outputs": [
    {
     "data": {
      "text/plain": [
       "SST (°C)                     float64\n",
       "pH Level                     float64\n",
       "Marine Heatwave                 bool\n",
       "Bleaching Severity_High         bool\n",
       "Bleaching Severity_Low          bool\n",
       "Bleaching Severity_Medium       bool\n",
       "dtype: object"
      ]
     },
     "execution_count": 11,
     "metadata": {},
     "output_type": "execute_result"
    }
   ],
   "source": [
    "x_test_design.dtypes"
   ]
  },
  {
   "cell_type": "code",
   "execution_count": 12,
   "id": "a54ff736",
   "metadata": {},
   "outputs": [
    {
     "name": "stdout",
     "output_type": "stream",
     "text": [
      "Train R2: 0.45892180264304205\n",
      "Test R2: 0.35896544159215193\n"
     ]
    }
   ],
   "source": [
    "model2 = LinearRegression().fit(x_train_design, y_train)\n",
    "\n",
    "train_score = model2.score(x_train_design, y_train)\n",
    "test_score = model2.score(x_test_design, y_test)\n",
    "\n",
    "print(\"Train R2:\", train_score)\n",
    "print(\"Test R2:\", test_score)"
   ]
  },
  {
   "cell_type": "code",
   "execution_count": 13,
   "id": "eed91001",
   "metadata": {},
   "outputs": [
    {
     "data": {
      "text/html": [
       "<div>\n",
       "<style scoped>\n",
       "    .dataframe tbody tr th:only-of-type {\n",
       "        vertical-align: middle;\n",
       "    }\n",
       "\n",
       "    .dataframe tbody tr th {\n",
       "        vertical-align: top;\n",
       "    }\n",
       "\n",
       "    .dataframe thead th {\n",
       "        text-align: right;\n",
       "    }\n",
       "</style>\n",
       "<table border=\"1\" class=\"dataframe\">\n",
       "  <thead>\n",
       "    <tr style=\"text-align: right;\">\n",
       "      <th></th>\n",
       "      <th>beta_value</th>\n",
       "    </tr>\n",
       "  </thead>\n",
       "  <tbody>\n",
       "    <tr>\n",
       "      <th>SST (°C)</th>\n",
       "      <td>-8.825227</td>\n",
       "    </tr>\n",
       "    <tr>\n",
       "      <th>pH Level</th>\n",
       "      <td>5.309369</td>\n",
       "    </tr>\n",
       "    <tr>\n",
       "      <th>Marine Heatwave</th>\n",
       "      <td>-4.412260</td>\n",
       "    </tr>\n",
       "    <tr>\n",
       "      <th>Bleaching Severity_High</th>\n",
       "      <td>-0.071697</td>\n",
       "    </tr>\n",
       "    <tr>\n",
       "      <th>Bleaching Severity_Low</th>\n",
       "      <td>-0.378663</td>\n",
       "    </tr>\n",
       "    <tr>\n",
       "      <th>Bleaching Severity_Medium</th>\n",
       "      <td>0.450360</td>\n",
       "    </tr>\n",
       "  </tbody>\n",
       "</table>\n",
       "</div>"
      ],
      "text/plain": [
       "                           beta_value\n",
       "SST (°C)                    -8.825227\n",
       "pH Level                     5.309369\n",
       "Marine Heatwave             -4.412260\n",
       "Bleaching Severity_High     -0.071697\n",
       "Bleaching Severity_Low      -0.378663\n",
       "Bleaching Severity_Medium    0.450360"
      ]
     },
     "execution_count": 13,
     "metadata": {},
     "output_type": "execute_result"
    }
   ],
   "source": [
    "coefs = pd.DataFrame(model2.coef_, index=x_train_design.columns, columns=[\"beta_value\"])\n",
    "coefs"
   ]
  },
  {
   "cell_type": "code",
   "execution_count": 29,
   "id": "f94b9683",
   "metadata": {},
   "outputs": [
    {
     "data": {
      "text/plain": [
       "[Text(0.5, 1.0, 'Model coefficients')]"
      ]
     },
     "execution_count": 29,
     "metadata": {},
     "output_type": "execute_result"
    },
    {
     "data": {
      "image/png": "[encoded data removed]",
      "text/plain": [
       "<Figure size 640x480 with 1 Axes>"
      ]
     },
     "metadata": {},
     "output_type": "display_data"
    }
   ],
   "source": [
    "sns.barplot(data=coefs.T, orient='h').set(title=\"Model coefficients\")"
   ]
  },
  {
   "cell_type": "code",
   "execution_count": null,
   "id": "bfe9936e",
   "metadata": {},
   "outputs": [],
   "source": [
    "x_space = np.linspace(x[\"\"])"
   ]
  },
  {
   "cell_type": "code",
   "execution_count": 14,
   "id": "65bffadc",
   "metadata": {},
   "outputs": [
    {
     "data": {
      "text/html": [
       "<div>\n",
       "<style scoped>\n",
       "    .dataframe tbody tr th:only-of-type {\n",
       "        vertical-align: middle;\n",
       "    }\n",
       "\n",
       "    .dataframe tbody tr th {\n",
       "        vertical-align: top;\n",
       "    }\n",
       "\n",
       "    .dataframe thead th {\n",
       "        text-align: right;\n",
       "    }\n",
       "</style>\n",
       "<table border=\"1\" class=\"dataframe\">\n",
       "  <thead>\n",
       "    <tr style=\"text-align: right;\">\n",
       "      <th></th>\n",
       "      <th>SST (°C)</th>\n",
       "      <th>pH Level</th>\n",
       "      <th>Marine Heatwave</th>\n",
       "      <th>Bleaching Severity_High</th>\n",
       "      <th>Bleaching Severity_Low</th>\n",
       "      <th>Bleaching Severity_Medium</th>\n",
       "    </tr>\n",
       "  </thead>\n",
       "  <tbody>\n",
       "    <tr>\n",
       "      <th>SST (°C)</th>\n",
       "      <td>1.000000</td>\n",
       "      <td>-0.562979</td>\n",
       "      <td>0.688050</td>\n",
       "      <td>0.017731</td>\n",
       "      <td>-0.032813</td>\n",
       "      <td>0.016296</td>\n",
       "    </tr>\n",
       "    <tr>\n",
       "      <th>pH Level</th>\n",
       "      <td>-0.562979</td>\n",
       "      <td>1.000000</td>\n",
       "      <td>-0.406585</td>\n",
       "      <td>-0.056083</td>\n",
       "      <td>0.042318</td>\n",
       "      <td>0.009181</td>\n",
       "    </tr>\n",
       "    <tr>\n",
       "      <th>Marine Heatwave</th>\n",
       "      <td>0.688050</td>\n",
       "      <td>-0.406585</td>\n",
       "      <td>1.000000</td>\n",
       "      <td>0.024416</td>\n",
       "      <td>-0.001450</td>\n",
       "      <td>-0.020765</td>\n",
       "    </tr>\n",
       "    <tr>\n",
       "      <th>Bleaching Severity_High</th>\n",
       "      <td>0.017731</td>\n",
       "      <td>-0.056083</td>\n",
       "      <td>0.024416</td>\n",
       "      <td>1.000000</td>\n",
       "      <td>-0.446731</td>\n",
       "      <td>-0.467800</td>\n",
       "    </tr>\n",
       "    <tr>\n",
       "      <th>Bleaching Severity_Low</th>\n",
       "      <td>-0.032813</td>\n",
       "      <td>0.042318</td>\n",
       "      <td>-0.001450</td>\n",
       "      <td>-0.446731</td>\n",
       "      <td>1.000000</td>\n",
       "      <td>-0.581758</td>\n",
       "    </tr>\n",
       "    <tr>\n",
       "      <th>Bleaching Severity_Medium</th>\n",
       "      <td>0.016296</td>\n",
       "      <td>0.009181</td>\n",
       "      <td>-0.020765</td>\n",
       "      <td>-0.467800</td>\n",
       "      <td>-0.581758</td>\n",
       "      <td>1.000000</td>\n",
       "    </tr>\n",
       "  </tbody>\n",
       "</table>\n",
       "</div>"
      ],
      "text/plain": [
       "                           SST (°C)  pH Level  Marine Heatwave  \\\n",
       "SST (°C)                   1.000000 -0.562979         0.688050   \n",
       "pH Level                  -0.562979  1.000000        -0.406585   \n",
       "Marine Heatwave            0.688050 -0.406585         1.000000   \n",
       "Bleaching Severity_High    0.017731 -0.056083         0.024416   \n",
       "Bleaching Severity_Low    -0.032813  0.042318        -0.001450   \n",
       "Bleaching Severity_Medium  0.016296  0.009181        -0.020765   \n",
       "\n",
       "                           Bleaching Severity_High  Bleaching Severity_Low  \\\n",
       "SST (°C)                                  0.017731               -0.032813   \n",
       "pH Level                                 -0.056083                0.042318   \n",
       "Marine Heatwave                           0.024416               -0.001450   \n",
       "Bleaching Severity_High                   1.000000               -0.446731   \n",
       "Bleaching Severity_Low                   -0.446731                1.000000   \n",
       "Bleaching Severity_Medium                -0.467800               -0.581758   \n",
       "\n",
       "                           Bleaching Severity_Medium  \n",
       "SST (°C)                                    0.016296  \n",
       "pH Level                                    0.009181  \n",
       "Marine Heatwave                            -0.020765  \n",
       "Bleaching Severity_High                    -0.467800  \n",
       "Bleaching Severity_Low                     -0.581758  \n",
       "Bleaching Severity_Medium                   1.000000  "
      ]
     },
     "execution_count": 14,
     "metadata": {},
     "output_type": "execute_result"
    }
   ],
   "source": [
    "x_train_design.corr()"
   ]
  },
  {
   "cell_type": "code",
   "execution_count": null,
   "id": "785ba0a9",
   "metadata": {},
   "outputs": [
    {
     "name": "stderr",
     "output_type": "stream",
     "text": [
      "g:\\CS109\\.venv\\Lib\\site-packages\\sklearn\\utils\\validation.py:2739: UserWarning: X does not have valid feature names, but LinearRegression was fitted with feature names\n",
      "  warnings.warn(\n"
     ]
    },
    {
     "data": {
      "text/plain": [
       "Text(0.5, 1.0, \"('R2:', 0.3122220223675435)\")"
      ]
     },
     "execution_count": 28,
     "metadata": {},
     "output_type": "execute_result"
    },
    {
     "data": {
      "image/png": "[encoded data removed]",
      "text/plain": [
       "<Figure size 640x480 with 1 Axes>"
      ]
     },
     "metadata": {},
     "output_type": "display_data"
    }
   ],
   "source": [
    "model3 = LinearRegression().fit(df[[\"SST (°C)\"]], df[\"pH Level\"])\n",
    "\n",
    "x_space = np.linspace(df[\"SST (°C)\"].min(), df[\"SST (°C)\"].max(), 100).reshape(-1,1)\n",
    "\n",
    "y_predict = model3.predict(x_space)\n",
    "\n",
    "plt.scatter(df[\"SST (°C)\"], df[\"pH Level\"])\n",
    "plt.plot(x_space, y_predict)\n",
    "\n",
    "\n",
    "plt.title((\"R2:\", model3.score(df[[\"SST (°C)\"]], df[\"pH Level\"])))"
   ]
  }
 ],
 "metadata": {
  "kernelspec": {
   "display_name": ".venv",
   "language": "python",
   "name": "python3"
  },
  "language_info": {
   "codemirror_mode": {
    "name": "ipython",
    "version": 3
   },
   "file_extension": ".py",
   "mimetype": "text/x-python",
   "name": "python",
   "nbconvert_exporter": "python",
   "pygments_lexer": "ipython3",
   "version": "3.13.3"
  }
 },
 "nbformat": 4,
 "nbformat_minor": 5
}
