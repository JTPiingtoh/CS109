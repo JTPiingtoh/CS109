{
    "metadata": {
        "kernelspec": {
            "name": "python3",
            "display_name": "Python 3 (ipykernel)",
            "language": "python"
        }
    },
    "nbformat": 4,
    "nbformat_minor": 4,
    "cells": [
        {
            "cell_type": "code",
            "execution_count": 109,
            "metadata": {},
            "outputs": [],
            "source": [
                "# Import libraries\n",
                "%matplotlib inline\n",
                "import pandas as pd\n",
                "import numpy as np\n",
                "import matplotlib.pyplot as plt\n",
                "from sklearn import preprocessing\n",
                "from sklearn.metrics import mean_squared_error\n",
                "from sklearn.linear_model import LinearRegression\n",
                "from sklearn.model_selection import train_test_split\n",
                "from scipy import stats"
            ]
        },
        {
            "cell_type": "code",
            "execution_count": 110,
            "metadata": {},
            "outputs": [],
            "source": [
                "# Read the `Advertising.csv` dataframe\n",
                "\n",
                "df = pd.read_csv('Advertising.csv')"
            ]
        },
        {
            "cell_type": "code",
            "execution_count": 111,
            "metadata": {},
            "outputs": [
                {
                    "data": {
                        "text/html": "\u003cdiv\u003e\n\u003cstyle scoped\u003e\n    .dataframe tbody tr th:only-of-type {\n        vertical-align: middle;\n    }\n\n    .dataframe tbody tr th {\n        vertical-align: top;\n    }\n\n    .dataframe thead th {\n        text-align: right;\n    }\n\u003c/style\u003e\n\u003ctable border=\"1\" class=\"dataframe\"\u003e\n  \u003cthead\u003e\n    \u003ctr style=\"text-align: right;\"\u003e\n      \u003cth\u003e\u003c/th\u003e\n      \u003cth\u003eTV\u003c/th\u003e\n      \u003cth\u003eRadio\u003c/th\u003e\n      \u003cth\u003eNewspaper\u003c/th\u003e\n      \u003cth\u003eSales\u003c/th\u003e\n    \u003c/tr\u003e\n  \u003c/thead\u003e\n  \u003ctbody\u003e\n    \u003ctr\u003e\n      \u003cth\u003e0\u003c/th\u003e\n      \u003ctd\u003e230.1\u003c/td\u003e\n      \u003ctd\u003e37.8\u003c/td\u003e\n      \u003ctd\u003e69.2\u003c/td\u003e\n      \u003ctd\u003e22.1\u003c/td\u003e\n    \u003c/tr\u003e\n    \u003ctr\u003e\n      \u003cth\u003e1\u003c/th\u003e\n      \u003ctd\u003e44.5\u003c/td\u003e\n      \u003ctd\u003e39.3\u003c/td\u003e\n      \u003ctd\u003e45.1\u003c/td\u003e\n      \u003ctd\u003e10.4\u003c/td\u003e\n    \u003c/tr\u003e\n    \u003ctr\u003e\n      \u003cth\u003e2\u003c/th\u003e\n      \u003ctd\u003e17.2\u003c/td\u003e\n      \u003ctd\u003e45.9\u003c/td\u003e\n      \u003ctd\u003e69.3\u003c/td\u003e\n      \u003ctd\u003e9.3\u003c/td\u003e\n    \u003c/tr\u003e\n    \u003ctr\u003e\n      \u003cth\u003e3\u003c/th\u003e\n      \u003ctd\u003e151.5\u003c/td\u003e\n      \u003ctd\u003e41.3\u003c/td\u003e\n      \u003ctd\u003e58.5\u003c/td\u003e\n      \u003ctd\u003e18.5\u003c/td\u003e\n    \u003c/tr\u003e\n    \u003ctr\u003e\n      \u003cth\u003e4\u003c/th\u003e\n      \u003ctd\u003e180.8\u003c/td\u003e\n      \u003ctd\u003e10.8\u003c/td\u003e\n      \u003ctd\u003e58.4\u003c/td\u003e\n      \u003ctd\u003e12.9\u003c/td\u003e\n    \u003c/tr\u003e\n  \u003c/tbody\u003e\n\u003c/table\u003e\n\u003c/div\u003e",
                        "text/plain": "      TV  Radio  Newspaper  Sales\n0  230.1   37.8       69.2   22.1\n1   44.5   39.3       45.1   10.4\n2   17.2   45.9       69.3    9.3\n3  151.5   41.3       58.5   18.5\n4  180.8   10.8       58.4   12.9"
                    },
                    "execution_count": 111,
                    "metadata": {},
                    "output_type": "execute_result"
                }
            ],
            "source": [
                "# Take a quick look at the data\n",
                "\n",
                "df.head()"
            ]
        },
        {
            "cell_type": "code",
            "execution_count": 112,
            "metadata": {},
            "outputs": [],
            "source": [
                "# This helper function computes the variance of the error term \n",
                "\n",
                "def error_func(y,y_p):\n",
                "    n = len(y)\n",
                "    return np.sqrt(np.sum((y-y_p)**2/(n-2)))"
            ]
        },
        {
            "cell_type": "code",
            "execution_count": 113,
            "metadata": {},
            "outputs": [],
            "source": [
                "# select the number of bootstraps \n",
                "\n",
                "numboot = 1000\n",
                "\n",
                "# Set the budget amount of $1000. We have used a 2d list to facilitate model prediction (sklearn.LinearRegression requires input as a 2d array)\n",
                "budget = [[1000]]\n",
                "\n",
                "# Define an empty list that will store sales predictions for each bootstrap\n",
                "sales_dist = []"
            ]
        },
        {
            "cell_type": "code",
            "execution_count": 114,
            "metadata": {},
            "outputs": [],
            "source": [
                "# Running through each bootstrap, we fit a model, \n",
                "# make predictions and compute sales which is appended \n",
                "# to the list defined above\n",
                "\n",
                "for i in range(numboot):\n",
                "    # Bootstrap using df.sample method.\n",
                "    df_new = df.sample(frac=1, replace=True)\n",
                "    x = df_new[['TV']].values\n",
                "    # x = df_new.drop('Sales', axis=1).values\n",
                "    y = df_new['Sales'].values\n",
                "    linreg = LinearRegression()\n",
                "    linreg.fit(x,y)\n",
                "    prediction = linreg.predict(budget)[0]\n",
                "    y_pred = linreg.predict(x) \n",
                "    error = np.random.normal(0,error_func(y,y_pred))\n",
                "    # The final sales prediction is the sum of the model prediction and the error term\n",
                "    \n",
                "    sales = prediction + error \n",
                "    sales_dist.append(sales)\n",
                ""
            ]
        },
        {
            "cell_type": "code",
            "execution_count": 115,
            "metadata": {},
            "outputs": [],
            "source": [
                "### edTest(test_sales) ###\n",
                "# We sort the list containing sales predictions in ascending values \n",
                "sales_dist = np.array(sales_dist)\n",
                "sales_dist.sort()\n",
                "\n",
                "# find the 95% confidence interval using np.percentile function at 2.5% and 97.5%\n",
                "\n",
                "sales_CI = (np.percentile(sales_dist,2.5),np.percentile(sales_dist, 97.5))"
            ]
        },
        {
            "cell_type": "code",
            "execution_count": 116,
            "metadata": {},
            "outputs": [],
            "source": [
                "# Use this helper function to plot the histogram of beta values along with the 95% confidence interval\n",
                "\n",
                "def plot_simulation(simulation,confidence):\n",
                "    plt.hist(simulation, bins = 30, label = 'beta distribution', align = 'left', density = True,edgecolor='k')\n",
                "    plt.axvline(confidence[1], 0, 1, color = 'r', label = 'Right Interval')\n",
                "    plt.axvline(confidence[0], 0, 1, color = 'red', label = 'Left Interval')\n",
                "    plt.xlabel('Beta value')\n",
                "    plt.ylabel('Frequency')\n",
                "    plt.legend(frameon = False, loc = 'upper right')"
            ]
        },
        {
            "cell_type": "code",
            "execution_count": 117,
            "metadata": {},
            "outputs": [
                {
                    "data": {
                        "image/png": "[encoded data removed]",
                        "text/plain": "\u003cFigure size 640x480 with 1 Axes\u003e"
                    },
                    "metadata": {},
                    "output_type": "display_data"
                }
            ],
            "source": [
                "# call the function above with the computed sales distribution and the confidence intervals from earlier\n",
                "\n",
                "plot_simulation(sales_dist,sales_CI)"
            ]
        },
        {
            "cell_type": "code",
            "execution_count": 118,
            "metadata": {},
            "outputs": [
                {
                    "name": "stdout",
                    "output_type": "stream",
                    "text": "With a TV advertising budget of $1000,\nwe can expect an increase of sales anywhere between 46.36 to 63.07 with a 95% confidence interval\n"
                }
            ],
            "source": [
                "# Print the computed values\n",
                "\n",
                "print(f\"With a TV advertising budget of ${budget[0][0]},\")\n",
                "print(f\"we can expect an increase of sales anywhere between {sales_CI[0]:0.2f} to {sales_CI[1]:.2f}\\\n",
                " with a 95% confidence interval\")"
            ]
        },
        {
            "attachments": {},
            "cell_type": "markdown",
            "metadata": {},
            "source": [
                "## ⏸Post-exercise question\n",
                "\n",
                "Your sales prediction is based on the Simple-Linear regression model between `TV` and `Sales`.\n",
                "Now, re-run the above exercise but this time fit the model considering all variables in `Advertising.csv`.\n",
                "\n",
                "Keep the budget the same, i.e $1000 for 'TV' advertising. \n",
                "You may have to change the `budget` variable to something like `[[1000,0,0]]` for proper computation.\n",
                "\n",
                "Does your predicted sales interval change?\n",
                "Why, or why not?"
            ]
        },
        {
            "cell_type": "code",
            "execution_count": 119,
            "metadata": {},
            "outputs": [],
            "source": [
                "# Your answer here"
            ]
        }
    ]
}
