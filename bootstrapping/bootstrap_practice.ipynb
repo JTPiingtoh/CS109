{
 "cells": [
  {
   "cell_type": "markdown",
   "id": "6af311ad",
   "metadata": {},
   "source": [
    "Objective\n",
    "- To replcilate a bootstrapping process, and estimate coefficient t-test p-values from memory\n",
    "\n",
    "plan\n",
    "- bootstrap\n",
    "- fit lreg model onto boostrapped sample\n",
    "- calculate the coefficients\n",
    "- calculate ceofficient STDV\n",
    "- run t-test"
   ]
  },
  {
   "cell_type": "code",
   "execution_count": null,
   "id": "b9358f8a",
   "metadata": {},
   "outputs": [],
   "source": [
    "import pandas as pd\n",
    "import numpy as np\n",
    "import matplotlib.pyplot as plt\n",
    "from sklearn import preprocessing\n",
    "from sklearn.metrics import mean_squared_error\n",
    "from sklearn.linear_model import LinearRegression\n",
    "from sklearn.model_selection import train_test_split\n",
    "from sklearn.preprocessing import MinMaxScaler\n",
    "from scipy import stats"
   ]
  }
 ],
 "metadata": {
  "language_info": {
   "name": "python"
  }
 },
 "nbformat": 4,
 "nbformat_minor": 5
}
