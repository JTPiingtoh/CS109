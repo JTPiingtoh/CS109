{
 "cells": [
  {
   "cell_type": "markdown",
   "id": "6af311ad",
   "metadata": {},
   "source": [
    "Objective\n",
    "- To replcilate a bootstrapping process, and estimate coefficient t-test p-values from memory\n",
    "\n",
    "plan\n",
    "- bootstrap\n",
    "- fit lreg model onto boostrapped sample\n",
    "- calculate the coefficients\n",
    "- calculate ceofficient STDV\n",
    "- run t-test"
   ]
  },
  {
   "cell_type": "code",
   "execution_count": 1,
   "id": "b9358f8a",
   "metadata": {},
   "outputs": [],
   "source": [
    "import pandas as pd\n",
    "import numpy as np\n",
    "import matplotlib.pyplot as plt\n",
    "from sklearn import preprocessing\n",
    "from sklearn.metrics import mean_squared_error\n",
    "from sklearn.linear_model import LinearRegression\n",
    "from sklearn.model_selection import train_test_split\n",
    "from sklearn.preprocessing import MinMaxScaler\n",
    "from scipy import stats"
   ]
  },
  {
   "cell_type": "code",
   "execution_count": 2,
   "id": "8c3c653d",
   "metadata": {},
   "outputs": [],
   "source": [
    "df = pd.read_csv(\"Advertising.csv\")"
   ]
  },
  {
   "cell_type": "code",
   "execution_count": 3,
   "id": "46447a44",
   "metadata": {},
   "outputs": [
    {
     "data": {
      "text/html": [
       "<div>\n",
       "<style scoped>\n",
       "    .dataframe tbody tr th:only-of-type {\n",
       "        vertical-align: middle;\n",
       "    }\n",
       "\n",
       "    .dataframe tbody tr th {\n",
       "        vertical-align: top;\n",
       "    }\n",
       "\n",
       "    .dataframe thead th {\n",
       "        text-align: right;\n",
       "    }\n",
       "</style>\n",
       "<table border=\"1\" class=\"dataframe\">\n",
       "  <thead>\n",
       "    <tr style=\"text-align: right;\">\n",
       "      <th></th>\n",
       "      <th>TV</th>\n",
       "      <th>Radio</th>\n",
       "      <th>Newspaper</th>\n",
       "      <th>Sales</th>\n",
       "    </tr>\n",
       "  </thead>\n",
       "  <tbody>\n",
       "    <tr>\n",
       "      <th>0</th>\n",
       "      <td>230.1</td>\n",
       "      <td>37.8</td>\n",
       "      <td>69.2</td>\n",
       "      <td>22.1</td>\n",
       "    </tr>\n",
       "    <tr>\n",
       "      <th>1</th>\n",
       "      <td>44.5</td>\n",
       "      <td>39.3</td>\n",
       "      <td>45.1</td>\n",
       "      <td>10.4</td>\n",
       "    </tr>\n",
       "    <tr>\n",
       "      <th>2</th>\n",
       "      <td>17.2</td>\n",
       "      <td>45.9</td>\n",
       "      <td>69.3</td>\n",
       "      <td>9.3</td>\n",
       "    </tr>\n",
       "    <tr>\n",
       "      <th>3</th>\n",
       "      <td>151.5</td>\n",
       "      <td>41.3</td>\n",
       "      <td>58.5</td>\n",
       "      <td>18.5</td>\n",
       "    </tr>\n",
       "    <tr>\n",
       "      <th>4</th>\n",
       "      <td>180.8</td>\n",
       "      <td>10.8</td>\n",
       "      <td>58.4</td>\n",
       "      <td>12.9</td>\n",
       "    </tr>\n",
       "  </tbody>\n",
       "</table>\n",
       "</div>"
      ],
      "text/plain": [
       "      TV  Radio  Newspaper  Sales\n",
       "0  230.1   37.8       69.2   22.1\n",
       "1   44.5   39.3       45.1   10.4\n",
       "2   17.2   45.9       69.3    9.3\n",
       "3  151.5   41.3       58.5   18.5\n",
       "4  180.8   10.8       58.4   12.9"
      ]
     },
     "execution_count": 3,
     "metadata": {},
     "output_type": "execute_result"
    }
   ],
   "source": [
    "df.head()"
   ]
  },
  {
   "cell_type": "code",
   "execution_count": 4,
   "id": "ba65fba6",
   "metadata": {},
   "outputs": [],
   "source": [
    "# Normalize\n",
    "\n",
    "x_cols = df.columns.drop('Sales')\n",
    "scaler = MinMaxScaler()\n",
    "df[x_cols] = scaler.fit_transform(df[x_cols])"
   ]
  },
  {
   "cell_type": "code",
   "execution_count": 5,
   "id": "77a72ab5",
   "metadata": {},
   "outputs": [
    {
     "data": {
      "text/html": [
       "<div>\n",
       "<style scoped>\n",
       "    .dataframe tbody tr th:only-of-type {\n",
       "        vertical-align: middle;\n",
       "    }\n",
       "\n",
       "    .dataframe tbody tr th {\n",
       "        vertical-align: top;\n",
       "    }\n",
       "\n",
       "    .dataframe thead th {\n",
       "        text-align: right;\n",
       "    }\n",
       "</style>\n",
       "<table border=\"1\" class=\"dataframe\">\n",
       "  <thead>\n",
       "    <tr style=\"text-align: right;\">\n",
       "      <th></th>\n",
       "      <th>Radio</th>\n",
       "      <th>Newspaper</th>\n",
       "    </tr>\n",
       "  </thead>\n",
       "  <tbody>\n",
       "    <tr>\n",
       "      <th>0</th>\n",
       "      <td>0.762097</td>\n",
       "      <td>0.605981</td>\n",
       "    </tr>\n",
       "    <tr>\n",
       "      <th>1</th>\n",
       "      <td>0.792339</td>\n",
       "      <td>0.394019</td>\n",
       "    </tr>\n",
       "    <tr>\n",
       "      <th>2</th>\n",
       "      <td>0.925403</td>\n",
       "      <td>0.606860</td>\n",
       "    </tr>\n",
       "    <tr>\n",
       "      <th>3</th>\n",
       "      <td>0.832661</td>\n",
       "      <td>0.511873</td>\n",
       "    </tr>\n",
       "    <tr>\n",
       "      <th>4</th>\n",
       "      <td>0.217742</td>\n",
       "      <td>0.510994</td>\n",
       "    </tr>\n",
       "    <tr>\n",
       "      <th>...</th>\n",
       "      <td>...</td>\n",
       "      <td>...</td>\n",
       "    </tr>\n",
       "    <tr>\n",
       "      <th>195</th>\n",
       "      <td>0.074597</td>\n",
       "      <td>0.118734</td>\n",
       "    </tr>\n",
       "    <tr>\n",
       "      <th>196</th>\n",
       "      <td>0.098790</td>\n",
       "      <td>0.068602</td>\n",
       "    </tr>\n",
       "    <tr>\n",
       "      <th>197</th>\n",
       "      <td>0.187500</td>\n",
       "      <td>0.053650</td>\n",
       "    </tr>\n",
       "    <tr>\n",
       "      <th>198</th>\n",
       "      <td>0.846774</td>\n",
       "      <td>0.579595</td>\n",
       "    </tr>\n",
       "    <tr>\n",
       "      <th>199</th>\n",
       "      <td>0.173387</td>\n",
       "      <td>0.073879</td>\n",
       "    </tr>\n",
       "  </tbody>\n",
       "</table>\n",
       "<p>200 rows × 2 columns</p>\n",
       "</div>"
      ],
      "text/plain": [
       "        Radio  Newspaper\n",
       "0    0.762097   0.605981\n",
       "1    0.792339   0.394019\n",
       "2    0.925403   0.606860\n",
       "3    0.832661   0.511873\n",
       "4    0.217742   0.510994\n",
       "..        ...        ...\n",
       "195  0.074597   0.118734\n",
       "196  0.098790   0.068602\n",
       "197  0.187500   0.053650\n",
       "198  0.846774   0.579595\n",
       "199  0.173387   0.073879\n",
       "\n",
       "[200 rows x 2 columns]"
      ]
     },
     "execution_count": 5,
     "metadata": {},
     "output_type": "execute_result"
    }
   ],
   "source": [
    "df.drop(['Sales', 'TV'], axis=1)"
   ]
  },
  {
   "cell_type": "code",
   "execution_count": 6,
   "id": "2d244ad6",
   "metadata": {},
   "outputs": [],
   "source": [
    "# create loop to boostrap\n",
    "\n",
    "boostrap_num = 1000\n",
    "\n",
    "coef_dist = []\n",
    "\n",
    "for i in range(boostrap_num):\n",
    "\n",
    "    # bootstrap sample\n",
    "    df_new = df.sample(frac = 1, replace=True)\n",
    "\n",
    "    # fit lreg\n",
    "    X = df_new.drop([\"Sales\"], axis=1)\n",
    "    y = df_new['Sales']\n",
    "    lreg = LinearRegression().fit(X, y)\n",
    "\n",
    "    # get coefficients from lreg\n",
    "\n",
    "    coef_dist.append(lreg.coef_)\n",
    "\n",
    "coef_dist = np.array(coef_dist)\n"
   ]
  },
  {
   "cell_type": "code",
   "execution_count": 7,
   "id": "8745cc69",
   "metadata": {},
   "outputs": [],
   "source": [
    "# define function for t stat\n",
    "def tstat(array: np.ndarray) -> np.ndarray:\n",
    "    mean = np.abs(array.mean(axis=0))\n",
    "    std = array.std(axis=0)\n",
    "    return np.divide(mean,std)"
   ]
  },
  {
   "cell_type": "code",
   "execution_count": 8,
   "id": "f09355cd",
   "metadata": {},
   "outputs": [],
   "source": [
    "n = df.shape[0]"
   ]
  },
  {
   "cell_type": "code",
   "execution_count": 9,
   "id": "bbca1940",
   "metadata": {},
   "outputs": [
    {
     "name": "stdout",
     "output_type": "stream",
     "text": [
      "(np.float64(0.09097511640729206), np.float64(1.0), np.float64(1.0))\n",
      "[23.84847921 17.21579746  0.11441411]\n"
     ]
    },
    {
     "data": {
      "image/png": "[encoded data removed]",
      "text/plain": [
       "<Figure size 640x480 with 2 Axes>"
      ]
     },
     "metadata": {},
     "output_type": "display_data"
    }
   ],
   "source": [
    "# from coef dist, calculate t stats\n",
    "\n",
    "\n",
    "coefficient_t_stats = tstat(coef_dist)\n",
    "predictor_tval_dict = dict(zip(df.columns[:-1], coefficient_t_stats))\n",
    "\n",
    "predictors0, tvals = list(zip(*sorted(predictor_tval_dict.items(), key=lambda x: x[1])))\n",
    "\n",
    "# calculate p values\n",
    "pval = stats.t.sf(coefficient_t_stats, n-1) * 2\n",
    "conf = 1 - pval\n",
    "\n",
    "predictor_pval_dict = dict(zip(df.columns[:-1], conf))\n",
    "\n",
    "predictors1, conf = list(zip(*sorted(predictor_pval_dict.items(), key= lambda x: x[1])))\n",
    "\n",
    "fig, ax = plt.subplots(1,2)\n",
    "\n",
    "ax[0].barh(predictors0, tvals)\n",
    "ax[0].set_xlabel('t-values')\n",
    "ax[0].set_ylabel('predictors')\n",
    "\n",
    "ax[1].barh(predictors1, conf)\n",
    "ax[1].set_xlabel('p-values')\n",
    "\n",
    "print(conf)\n",
    "print(coefficient_t_stats)"
   ]
  },
  {
   "cell_type": "code",
   "execution_count": 10,
   "id": "66970a4e",
   "metadata": {},
   "outputs": [
    {
     "name": "stdout",
     "output_type": "stream",
     "text": [
      "[9.87261186 0.75544264]\n",
      "Index(['Radio', 'Newspaper'], dtype='object')\n"
     ]
    }
   ],
   "source": [
    "# plot a contour plot between newspaper and radio\n",
    "\n",
    "# create a meshgrib of beta values for newspaper and radio\n",
    "\n",
    "# before we do anythng, we should fit a lreg to find a good b_value,\n",
    "# as well as b1 and b2 values to center our contour plot around\n",
    "\n",
    "X = df.drop(['Sales', 'TV'], axis=1)\n",
    "y = df['Sales']\n",
    "\n",
    "\n",
    "lreg = LinearRegression().fit(X, y)\n",
    "lreg.coef_\n",
    "\n",
    "b1, b2 = lreg.coef_\n",
    "\n",
    "mult = 3\n",
    "\n",
    "b1s = np.linspace(-mult*b1, mult*b1, 100)\n",
    "b2s = np.linspace(-mult*b1, mult*b1, 100)\n",
    "\n",
    "b1v, b2v = np.meshgrid(b1s,b2s)\n",
    "\n",
    "print(lreg.coef_)\n",
    "print(X.columns)"
   ]
  },
  {
   "cell_type": "code",
   "execution_count": 11,
   "id": "6e8005d4",
   "metadata": {},
   "outputs": [
    {
     "data": {
      "text/plain": [
       "Text(0, 0.5, 'Newspaper')"
      ]
     },
     "execution_count": 11,
     "metadata": {},
     "output_type": "execute_result"
    },
    {
     "data": {
      "image/png": "[encoded data removed]",
      "text/plain": [
       "<Figure size 640x480 with 2 Axes>"
      ]
     },
     "metadata": {},
     "output_type": "display_data"
    }
   ],
   "source": [
    "# for the betas, calculate the RSS as newspaper and radio vary\n",
    "# the intercept will need to be kept the same\n",
    "\n",
    "# sales_pred = b_0 + b_1 * newspaper + b_2 * radio\n",
    "# rss = sum( (y - y_pred) ** 2) )\n",
    "b_0 = lreg.intercept_\n",
    "rssv = []\n",
    "\n",
    "for i in range(b1v.shape[0]):\n",
    "    for j in range(b1v.shape[1]):\n",
    "        y_pred = b_0 + b1v[i][j] * X['Radio'] + b2v[i][j] * X['Newspaper']\n",
    "        rssv.append(np.sum((y - y_pred) ** 2))\n",
    "\n",
    "rssv = np.array(rssv)\n",
    "plt.contourf(b1v, b2v, rssv.reshape(b1v.shape), levels = np.logspace(start=3,\n",
    "                                                                     stop=4,\n",
    "                                                                     base=10,\n",
    "                                                                     num=10))\n",
    "plt.colorbar(label=\"RSS\")\n",
    "plt.xlabel(\"Radio\")\n",
    "plt.ylabel(\"Newspaper\")"
   ]
  },
  {
   "cell_type": "code",
   "execution_count": null,
   "id": "45cbdaae",
   "metadata": {},
   "outputs": [],
   "source": []
  }
 ],
 "metadata": {
  "kernelspec": {
   "display_name": ".venv",
   "language": "python",
   "name": "python3"
  },
  "language_info": {
   "codemirror_mode": {
    "name": "ipython",
    "version": 3
   },
   "file_extension": ".py",
   "mimetype": "text/x-python",
   "name": "python",
   "nbconvert_exporter": "python",
   "pygments_lexer": "ipython3",
   "version": "3.12.1"
  }
 },
 "nbformat": 4,
 "nbformat_minor": 5
}
